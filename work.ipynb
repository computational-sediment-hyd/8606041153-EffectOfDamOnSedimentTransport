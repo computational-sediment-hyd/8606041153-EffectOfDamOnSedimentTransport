{
 "cells": [
  {
   "cell_type": "code",
   "execution_count": null,
   "metadata": {},
   "outputs": [],
   "source": [
    "import xarray as xr\n",
    "import cartopy.crs as crs\n",
    "import geoviews as gv\n",
    "import hvplot.xarray\n",
    "\n",
    "gv.extension('bokeh', logo=False)"
   ]
  },
  {
   "cell_type": "code",
   "execution_count": null,
   "metadata": {},
   "outputs": [],
   "source": [
    "#load geotiff\n",
    "dstif = xr.open_rasterio('USA-M1245-A-57_modified.tif')"
   ]
  },
  {
   "cell_type": "code",
   "execution_count": null,
   "metadata": {},
   "outputs": [],
   "source": [
    "# 背景図\n",
    "xmin,xmax = 25500.0, 25500+1500\n",
    "ymin,ymax= -101670,-101670+800\n",
    "url = 'https://cyberjapandata.gsi.go.jp/xyz/seamlessphoto/{Z}/{X}/{Y}.jpg'\n",
    "url = 'https://cyberjapandata.gsi.go.jp/xyz/nendophoto2011/{Z}/{X}/{Y}.png'\n",
    "geomap1 = gv.WMTS(url, crs=crs.epsg(6674)).redim(Longitude={'range':(xmin, xmax)}, Latitude={'range':(ymin, ymax)})\n",
    "url = 'https://cyberjapandata.gsi.go.jp/xyz/gazo2/{Z}/{X}/{Y}.jpg'\n",
    "geomap2 = gv.WMTS(url, crs=crs.epsg(6674)).redim(Longitude={'range':(xmin, xmax)}, Latitude={'range':(ymin, ymax)})\n",
    "url = 'http://www.google.cn/maps/vt?lyrs=s@189&gl=cn&x={X}&y={Y}&z={Z}'\n",
    "url = 'https://mt1.google.com/vt/lyrs=s&x={X}&y={Y}&z={Z}'\n",
    "geomap3 = gv.WMTS(url, crs=crs.epsg(6674)).redim(Longitude={'range':(xmin, xmax)}, Latitude={'range':(ymin, ymax)})"
   ]
  },
  {
   "cell_type": "code",
   "execution_count": null,
   "metadata": {},
   "outputs": [],
   "source": [
    "g10 =  dstif.isel(band=0).hvplot.image(rasterize=False\n",
    "                                              , x='x',y='y',c='value',by='band',cmap='gray', geo=True\n",
    "                                              ,clim=(1,255)).options(colorbar=False,clipping_colors={'min':'transparent'})\n",
    "g1 = geomap1 * g10"
   ]
  },
  {
   "cell_type": "code",
   "execution_count": null,
   "metadata": {},
   "outputs": [],
   "source": [
    "gall = (g1.options(title='国土地理院:1949/03/08',height=200, width=600, xlabel='', ylabel='') \\\n",
    " + geomap2.options(title='国土地理院:1979-1983',height=200, width=600, xlabel='', ylabel='') \\\n",
    " + geomap1.options(title='国土地理院:2011',height=200, width=600, xlabel='', ylabel='') \\\n",
    " + geomap3.options(title='google:2021',height=200, width=600, xlabel='', ylabel='') \\\n",
    ").cols(1)"
   ]
  },
  {
   "cell_type": "code",
   "execution_count": null,
   "metadata": {},
   "outputs": [],
   "source": [
    "# gall"
   ]
  },
  {
   "cell_type": "code",
   "execution_count": null,
   "metadata": {},
   "outputs": [],
   "source": [
    "out = hvplot.save(gall,'map.html')\n",
    "del out"
   ]
  },
  {
   "cell_type": "code",
   "execution_count": null,
   "metadata": {},
   "outputs": [],
   "source": [
    "# 背景図\n",
    "xmin,xmax = 30000, 30000+3000\n",
    "ymin,ymax= -103100,-103100+3000\n",
    "url = 'https://cyberjapandata.gsi.go.jp/xyz/seamlessphoto/{Z}/{X}/{Y}.jpg'\n",
    "geomap1 = gv.WMTS(url, crs=crs.epsg(6674)).redim(Longitude={'range':(xmin, xmax)}, Latitude={'range':(ymin, ymax)})"
   ]
  },
  {
   "cell_type": "code",
   "execution_count": null,
   "metadata": {},
   "outputs": [],
   "source": [
    "gall2 = geomap1.options(title='国土地理院:最新',height=300, width=300, xlabel='', ylabel='') \\\n",
    "+(geomap1*g10).options(title='国土地理院:1949/03/08',height=300, width=300, xlabel='', ylabel='')"
   ]
  },
  {
   "cell_type": "code",
   "execution_count": null,
   "metadata": {},
   "outputs": [],
   "source": [
    "# gall2"
   ]
  },
  {
   "cell_type": "code",
   "execution_count": null,
   "metadata": {},
   "outputs": [],
   "source": [
    "out = hvplot.save(gall2,'map0.html')\n",
    "del out"
   ]
  }
 ],
 "metadata": {
  "kernelspec": {
   "display_name": "Python 3",
   "language": "python",
   "name": "python3"
  },
  "language_info": {
   "codemirror_mode": {
    "name": "ipython",
    "version": 3
   },
   "file_extension": ".py",
   "mimetype": "text/x-python",
   "name": "python",
   "nbconvert_exporter": "python",
   "pygments_lexer": "ipython3",
   "version": "3.6.10"
  },
  "toc": {
   "base_numbering": 1,
   "nav_menu": {},
   "number_sections": true,
   "sideBar": true,
   "skip_h1_title": false,
   "title_cell": "Table of Contents",
   "title_sidebar": "Contents",
   "toc_cell": false,
   "toc_position": {},
   "toc_section_display": true,
   "toc_window_display": false
  }
 },
 "nbformat": 4,
 "nbformat_minor": 4
}
